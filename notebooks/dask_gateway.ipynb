{
 "cells": [
  {
   "cell_type": "markdown",
   "metadata": {},
   "source": [
    "# Dask Gateway Example Notebook\n",
    "Advice and suggestions for starting and working with a Dask Gateway cluster on Pangeo. Additional information can be found here: http://pangeo.io/cloud.html#dask, and here: https://gateway.dask.org/usage.html"
   ]
  },
  {
   "cell_type": "markdown",
   "metadata": {},
   "source": [
    "## Working with a Dask Gateway client\n",
    "A Dask Gateway object is a client for the Dask Gateway server and allows the creation and shutdown of Dask clusters. Creating a Gateway does not create a Dask cluster or start any new pods when it is created. The correct defaults needed are already set so it can usually be run without any parameters."
   ]
  },
  {
   "cell_type": "code",
   "execution_count": 32,
   "metadata": {},
   "outputs": [],
   "source": [
    "from dask_gateway import Gateway\n",
    "gateway = Gateway()"
   ]
  },
  {
   "cell_type": "code",
   "execution_count": 21,
   "metadata": {},
   "outputs": [
    {
     "data": {
      "text/plain": [
       "\u001b[0;31mType:\u001b[0m        Gateway\n",
       "\u001b[0;31mString form:\u001b[0m Gateway<http://10.1.34.198:8000/services/dask-gateway>\n",
       "\u001b[0;31mFile:\u001b[0m        /srv/conda/envs/notebook/lib/python3.7/site-packages/dask_gateway/client.py\n",
       "\u001b[0;31mDocstring:\u001b[0m  \n",
       "A client for a Dask Gateway Server.\n",
       "\n",
       "Parameters\n",
       "----------\n",
       "address : str, optional\n",
       "    The address to the gateway server.\n",
       "proxy_address : str, int, optional\n",
       "    The address of the scheduler proxy server. Defaults to `address` if not\n",
       "    provided. If an int, it's used as the port, with the host/ip taken from\n",
       "    ``address``. Provide a full address if a different host/ip should be\n",
       "    used.\n",
       "public_address : str, optional\n",
       "    The address to the gateway server, as accessible from a web browser.\n",
       "    This will be used as the root of all browser-facing links (e.g. the\n",
       "    dask dashboard).  Defaults to ``address`` if not provided.\n",
       "auth : GatewayAuth, optional\n",
       "    The authentication method to use.\n",
       "asynchronous : bool, optional\n",
       "    If true, starts the client in asynchronous mode, where it can be used\n",
       "    in other async code.\n",
       "loop : IOLoop, optional\n",
       "    The IOLoop instance to use. Defaults to the current loop in\n",
       "    asynchronous mode, otherwise a background loop is started.\n"
      ]
     },
     "metadata": {},
     "output_type": "display_data"
    }
   ],
   "source": [
    "gateway?"
   ]
  },
  {
   "cell_type": "markdown",
   "metadata": {},
   "source": [
    "### List the clusters already running\n",
    "It is a good idea to make sure that there aren't already any clusters that are running which sometimes happens. We can do this by listing the clusters with the `list_clusters()` function. Note that if you run these cells you may not have any clusters running or pending so the output may change."
   ]
  },
  {
   "cell_type": "code",
   "execution_count": 11,
   "metadata": {},
   "outputs": [
    {
     "data": {
      "text/plain": [
       "[ClusterReport<name=ooi-staging.eed460b981a84aa0b472f2b8570bbf8f, status=PENDING>]"
      ]
     },
     "execution_count": 11,
     "metadata": {},
     "output_type": "execute_result"
    }
   ],
   "source": [
    "gateway.list_clusters()"
   ]
  },
  {
   "cell_type": "code",
   "execution_count": 17,
   "metadata": {},
   "outputs": [
    {
     "data": {
      "text/plain": [
       "datetime.datetime(2020, 11, 3, 20, 42, 56)"
      ]
     },
     "execution_count": 17,
     "metadata": {},
     "output_type": "execute_result"
    }
   ],
   "source": [
    "gateway.list_clusters()[0].start_time"
   ]
  },
  {
   "cell_type": "code",
   "execution_count": 21,
   "metadata": {},
   "outputs": [
    {
     "data": {
      "text/plain": [
       "NoneType"
      ]
     },
     "execution_count": 21,
     "metadata": {},
     "output_type": "execute_result"
    }
   ],
   "source": [
    "type(gateway.list_clusters()[0].scheduler_address)"
   ]
  },
  {
   "cell_type": "markdown",
   "metadata": {},
   "source": [
    "### Stop any clusters if necessary\n",
    "Listing the clusters shows a pending cluster that was started yesterday, and does not have an IP address. I will stop this cluster because it is orphaned and no longer needed. Once that is done `list_clusters()` will return an empty list."
   ]
  },
  {
   "cell_type": "code",
   "execution_count": 23,
   "metadata": {},
   "outputs": [
    {
     "data": {
      "text/plain": [
       "'ooi-staging.eed460b981a84aa0b472f2b8570bbf8f'"
      ]
     },
     "execution_count": 23,
     "metadata": {},
     "output_type": "execute_result"
    }
   ],
   "source": [
    "orphaned_cluster_name = gateway.list_clusters()[0].name\n",
    "orphaned_cluster_name"
   ]
  },
  {
   "cell_type": "code",
   "execution_count": 24,
   "metadata": {},
   "outputs": [],
   "source": [
    "gateway.stop_cluster(orphaned_cluster_name)"
   ]
  },
  {
   "cell_type": "code",
   "execution_count": 25,
   "metadata": {},
   "outputs": [
    {
     "data": {
      "text/plain": [
       "[]"
      ]
     },
     "execution_count": 25,
     "metadata": {},
     "output_type": "execute_result"
    }
   ],
   "source": [
    "gateway.list_clusters()"
   ]
  },
  {
   "cell_type": "markdown",
   "metadata": {},
   "source": [
    "## Create a new Dask cluster with the default options using the Gateway client\n",
    "Now we will create a new Dask GatewayCluster object using the Gateway object's `new_cluster()` function. This command creates a Dask scheduler pod which will be responsible for scheduling jobs for workers. For now we will use the default worker options. Later we will look at changing the CPU and memory requests. Because this command starts a pod (just the scheduler pod), it can take several seconds or longer to complete."
   ]
  },
  {
   "cell_type": "code",
   "execution_count": 33,
   "metadata": {},
   "outputs": [],
   "source": [
    "cluster = gateway.new_cluster()"
   ]
  },
  {
   "cell_type": "code",
   "execution_count": 4,
   "metadata": {},
   "outputs": [
    {
     "data": {
      "text/plain": [
       "dask_gateway.client.GatewayCluster"
      ]
     },
     "execution_count": 4,
     "metadata": {},
     "output_type": "execute_result"
    }
   ],
   "source": [
    "type(cluster)"
   ]
  },
  {
   "cell_type": "markdown",
   "metadata": {},
   "source": [
    "Now that we have created a cluster, `list_clusters()` will return the name of a running cluster that has a URL."
   ]
  },
  {
   "cell_type": "code",
   "execution_count": 5,
   "metadata": {},
   "outputs": [
    {
     "data": {
      "text/plain": [
       "[ClusterReport<name=ooi-staging.94fff0d08f4146a2a3e5852061756d78, status=RUNNING>]"
      ]
     },
     "execution_count": 5,
     "metadata": {},
     "output_type": "execute_result"
    }
   ],
   "source": [
    "gateway.list_clusters()"
   ]
  },
  {
   "cell_type": "code",
   "execution_count": 6,
   "metadata": {},
   "outputs": [
    {
     "data": {
      "text/plain": [
       "'gateway://traefik-ooi-staging-dask-gateway.ooi-staging:80/ooi-staging.94fff0d08f4146a2a3e5852061756d78'"
      ]
     },
     "execution_count": 6,
     "metadata": {},
     "output_type": "execute_result"
    }
   ],
   "source": [
    "gateway.list_clusters()[0].scheduler_address"
   ]
  },
  {
   "cell_type": "code",
   "execution_count": 7,
   "metadata": {},
   "outputs": [
    {
     "data": {
      "text/plain": [
       "\u001b[0;31mType:\u001b[0m        GatewayCluster\n",
       "\u001b[0;31mString form:\u001b[0m GatewayCluster<ooi-staging.94fff0d08f4146a2a3e5852061756d78, status=running>\n",
       "\u001b[0;31mFile:\u001b[0m        /srv/conda/envs/notebook/lib/python3.7/site-packages/dask_gateway/client.py\n",
       "\u001b[0;31mDocstring:\u001b[0m  \n",
       "A dask-gateway cluster.\n",
       "\n",
       "Parameters\n",
       "----------\n",
       "address : str, optional\n",
       "    The address to the gateway server.\n",
       "proxy_address : str, int, optional\n",
       "    The address of the scheduler proxy server. If an int, it's used as the\n",
       "    port, with the host/ip taken from ``address``. Provide a full address\n",
       "    if a different host/ip should be used.\n",
       "public_address : str, optional\n",
       "    The address to the gateway server, as accessible from a web browser.\n",
       "    This will be used as the root of all browser-facing links (e.g. the\n",
       "    dask dashboard).  Defaults to ``address`` if not provided.\n",
       "auth : GatewayAuth, optional\n",
       "    The authentication method to use.\n",
       "cluster_options : mapping, optional\n",
       "    A mapping of cluster options to use to start the cluster.\n",
       "shutdown_on_close : bool, optional\n",
       "    If True (default), the cluster will be automatically shutdown on\n",
       "    close.\n",
       "asynchronous : bool, optional\n",
       "    If true, starts the cluster in asynchronous mode, where it can be used\n",
       "    in other async code.\n",
       "loop : IOLoop, optional\n",
       "    The IOLoop instance to use. Defaults to the current loop in\n",
       "    asynchronous mode, otherwise a background loop is started.\n",
       "**kwargs :\n",
       "    Additional cluster configuration options. If ``cluster_options`` is\n",
       "    provided, these are applied afterwards as overrides. Available options\n",
       "    are specific to each deployment of dask-gateway, see\n",
       "    ``Gateway.cluster_options`` for more information.\n"
      ]
     },
     "metadata": {},
     "output_type": "display_data"
    }
   ],
   "source": [
    "cluster?"
   ]
  },
  {
   "cell_type": "markdown",
   "metadata": {},
   "source": [
    "### Scaling a cluster explicitly\n",
    "We now have a Dask cluster we can communicate with but we do not have any workers. One way to get a set of workers is to scale the cluster explicitly to some number of workers. This command will create a set of worker pods that will need to start, and although this command is non-blocking, it often will take many minutes for workers to become available, depending on whether nodes need to be started or Docker images need to be downloaded."
   ]
  },
  {
   "cell_type": "code",
   "execution_count": 34,
   "metadata": {},
   "outputs": [],
   "source": [
    "cluster.scale(4)"
   ]
  },
  {
   "cell_type": "markdown",
   "metadata": {},
   "source": [
    "### Adaptively scaling a cluster\n",
    "Coming soon."
   ]
  },
  {
   "cell_type": "markdown",
   "metadata": {},
   "source": [
    "## Connect to the Dask cluster\n",
    "To use the cluster we need to get a cluster Client object using the `get_client()` function which will allow us to submit jobs to the cluster."
   ]
  },
  {
   "cell_type": "code",
   "execution_count": 35,
   "metadata": {},
   "outputs": [],
   "source": [
    "client = cluster.get_client()"
   ]
  },
  {
   "cell_type": "code",
   "execution_count": 26,
   "metadata": {},
   "outputs": [
    {
     "data": {
      "text/plain": [
       "distributed.client.Client"
      ]
     },
     "execution_count": 26,
     "metadata": {},
     "output_type": "execute_result"
    }
   ],
   "source": [
    "type(client)"
   ]
  },
  {
   "cell_type": "code",
   "execution_count": 27,
   "metadata": {},
   "outputs": [
    {
     "data": {
      "text/plain": [
       "\u001b[0;31mType:\u001b[0m        Client\n",
       "\u001b[0;31mString form:\u001b[0m <Client: 'tls://10.0.128.255:8786' processes=4 threads=4, memory=5.37 GB>\n",
       "\u001b[0;31mFile:\u001b[0m        /srv/conda/envs/notebook/lib/python3.7/site-packages/distributed/client.py\n",
       "\u001b[0;31mDocstring:\u001b[0m  \n",
       "Connect to and submit computation to a Dask cluster\n",
       "\n",
       "The Client connects users to a Dask cluster.  It provides an asynchronous\n",
       "user interface around functions and futures.  This class resembles\n",
       "executors in ``concurrent.futures`` but also allows ``Future`` objects\n",
       "within ``submit/map`` calls.  When a Client is instantiated it takes over\n",
       "all ``dask.compute`` and ``dask.persist`` calls by default.\n",
       "\n",
       "It is also common to create a Client without specifying the scheduler\n",
       "address , like ``Client()``.  In this case the Client creates a\n",
       ":class:`LocalCluster` in the background and connects to that.  Any extra\n",
       "keywords are passed from Client to LocalCluster in this case.  See the\n",
       "LocalCluster documentation for more information.\n",
       "\n",
       "Parameters\n",
       "----------\n",
       "address: string, or Cluster\n",
       "    This can be the address of a ``Scheduler`` server like a string\n",
       "    ``'127.0.0.1:8786'`` or a cluster object like ``LocalCluster()``\n",
       "timeout: int\n",
       "    Timeout duration for initial connection to the scheduler\n",
       "set_as_default: bool (True)\n",
       "    Claim this scheduler as the global dask scheduler\n",
       "scheduler_file: string (optional)\n",
       "    Path to a file with scheduler information if available\n",
       "security: Security or bool, optional\n",
       "    Optional security information. If creating a local cluster can also\n",
       "    pass in ``True``, in which case temporary self-signed credentials will\n",
       "    be created automatically.\n",
       "asynchronous: bool (False by default)\n",
       "    Set to True if using this client within async/await functions or within\n",
       "    Tornado gen.coroutines.  Otherwise this should remain False for normal\n",
       "    use.\n",
       "name: string (optional)\n",
       "    Gives the client a name that will be included in logs generated on\n",
       "    the scheduler for matters relating to this client\n",
       "direct_to_workers: bool (optional)\n",
       "    Whether or not to connect directly to the workers, or to ask\n",
       "    the scheduler to serve as intermediary.\n",
       "heartbeat_interval: int\n",
       "    Time in milliseconds between heartbeats to scheduler\n",
       "**kwargs:\n",
       "    If you do not pass a scheduler address, Client will create a\n",
       "    ``LocalCluster`` object, passing any extra keyword arguments.\n",
       "\n",
       "Examples\n",
       "--------\n",
       "Provide cluster's scheduler node address on initialization:\n",
       "\n",
       ">>> client = Client('127.0.0.1:8786')  # doctest: +SKIP\n",
       "\n",
       "Use ``submit`` method to send individual computations to the cluster\n",
       "\n",
       ">>> a = client.submit(add, 1, 2)  # doctest: +SKIP\n",
       ">>> b = client.submit(add, 10, 20)  # doctest: +SKIP\n",
       "\n",
       "Continue using submit or map on results to build up larger computations\n",
       "\n",
       ">>> c = client.submit(add, a, b)  # doctest: +SKIP\n",
       "\n",
       "Gather results with the ``gather`` method.\n",
       "\n",
       ">>> client.gather(c)  # doctest: +SKIP\n",
       "33\n",
       "\n",
       "You can also call Client with no arguments in order to create your own\n",
       "local cluster.\n",
       "\n",
       ">>> client = Client()  # makes your own local \"cluster\" # doctest: +SKIP\n",
       "\n",
       "Extra keywords will be passed directly to LocalCluster\n",
       "\n",
       ">>> client = Client(processes=False, threads_per_worker=1)  # doctest: +SKIP\n",
       "\n",
       "See Also\n",
       "--------\n",
       "distributed.scheduler.Scheduler: Internal scheduler\n",
       "distributed.LocalCluster:\n"
      ]
     },
     "metadata": {},
     "output_type": "display_data"
    }
   ],
   "source": [
    "client?"
   ]
  },
  {
   "cell_type": "code",
   "execution_count": 28,
   "metadata": {},
   "outputs": [
    {
     "data": {
      "text/html": [
       "<table style=\"border: 2px solid white;\">\n",
       "<tr>\n",
       "<td style=\"vertical-align: top; border: 0px solid white\">\n",
       "<h3 style=\"text-align: left;\">Client</h3>\n",
       "<ul style=\"text-align: left; list-style: none; margin: 0; padding: 0;\">\n",
       "  <li><b>Scheduler: </b>gateway://traefik-ooi-staging-dask-gateway.ooi-staging:80/ooi-staging.05536b8e4de045a4974e1d64701ae75a</li>\n",
       "  <li><b>Dashboard: </b><a href='/services/dask-gateway/clusters/ooi-staging.05536b8e4de045a4974e1d64701ae75a/status' target='_blank'>/services/dask-gateway/clusters/ooi-staging.05536b8e4de045a4974e1d64701ae75a/status</a></li>\n",
       "</ul>\n",
       "</td>\n",
       "<td style=\"vertical-align: top; border: 0px solid white\">\n",
       "<h3 style=\"text-align: left;\">Cluster</h3>\n",
       "<ul style=\"text-align: left; list-style:none; margin: 0; padding: 0;\">\n",
       "  <li><b>Workers: </b>4</li>\n",
       "  <li><b>Cores: </b>4</li>\n",
       "  <li><b>Memory: </b>5.37 GB</li>\n",
       "</ul>\n",
       "</td>\n",
       "</tr>\n",
       "</table>"
      ],
      "text/plain": [
       "<Client: 'tls://10.0.128.255:8786' processes=4 threads=4, memory=5.37 GB>"
      ]
     },
     "execution_count": 28,
     "metadata": {},
     "output_type": "execute_result"
    }
   ],
   "source": [
    "client"
   ]
  },
  {
   "cell_type": "markdown",
   "metadata": {},
   "source": [
    "## Activate the Dask labextension\n",
    "To use the Dask extension tools we need to populate the URL in the Dask extansion pane. Calling the client provides the dashboard link for the extension. Shift-right-click on it to copy the address."
   ]
  },
  {
   "cell_type": "code",
   "execution_count": 13,
   "metadata": {},
   "outputs": [
    {
     "data": {
      "text/html": [
       "<table style=\"border: 2px solid white;\">\n",
       "<tr>\n",
       "<td style=\"vertical-align: top; border: 0px solid white\">\n",
       "<h3 style=\"text-align: left;\">Client</h3>\n",
       "<ul style=\"text-align: left; list-style: none; margin: 0; padding: 0;\">\n",
       "  <li><b>Scheduler: </b>gateway://traefik-ooi-staging-dask-gateway.ooi-staging:80/ooi-staging.94fff0d08f4146a2a3e5852061756d78</li>\n",
       "  <li><b>Dashboard: </b><a href='/services/dask-gateway/clusters/ooi-staging.94fff0d08f4146a2a3e5852061756d78/status' target='_blank'>/services/dask-gateway/clusters/ooi-staging.94fff0d08f4146a2a3e5852061756d78/status</a></li>\n",
       "</ul>\n",
       "</td>\n",
       "<td style=\"vertical-align: top; border: 0px solid white\">\n",
       "<h3 style=\"text-align: left;\">Cluster</h3>\n",
       "<ul style=\"text-align: left; list-style:none; margin: 0; padding: 0;\">\n",
       "  <li><b>Workers: </b>4</li>\n",
       "  <li><b>Cores: </b>4</li>\n",
       "  <li><b>Memory: </b>5.37 GB</li>\n",
       "</ul>\n",
       "</td>\n",
       "</tr>\n",
       "</table>"
      ],
      "text/plain": [
       "<Client: 'tls://10.0.129.204:8786' processes=4 threads=4, memory=5.37 GB>"
      ]
     },
     "execution_count": 13,
     "metadata": {},
     "output_type": "execute_result"
    }
   ],
   "source": [
    "client"
   ]
  },
  {
   "cell_type": "markdown",
   "metadata": {},
   "source": [
    "## Test calculation with the Dask cluster\n",
    "This is a basic test calculation that should take quite a while to complete but can be sped up by submitting this job to the Dask cluster."
   ]
  },
  {
   "cell_type": "code",
   "execution_count": 14,
   "metadata": {},
   "outputs": [],
   "source": [
    "import dask.array as da"
   ]
  },
  {
   "cell_type": "code",
   "execution_count": 15,
   "metadata": {},
   "outputs": [
    {
     "name": "stdout",
     "output_type": "stream",
     "text": [
      "CPU times: user 192 ms, sys: 34.4 ms, total: 227 ms\n",
      "Wall time: 36 s\n"
     ]
    },
    {
     "data": {
      "text/plain": [
       "-9.939651340816679e-05"
      ]
     },
     "execution_count": 15,
     "metadata": {},
     "output_type": "execute_result"
    }
   ],
   "source": [
    "%%time\n",
    "a = da.random.normal(size=(10000, 40000), chunks=(500, 500))\n",
    "f = client.submit(a.mean().compute)\n",
    "f.result()"
   ]
  },
  {
   "cell_type": "markdown",
   "metadata": {},
   "source": [
    "## Shutdown the Dask Cluster\n",
    "It is very important to shutdown your Dask cluster when you are done using it."
   ]
  },
  {
   "cell_type": "code",
   "execution_count": 16,
   "metadata": {},
   "outputs": [],
   "source": [
    "cluster.shutdown()"
   ]
  },
  {
   "cell_type": "markdown",
   "metadata": {},
   "source": [
    "Loop through `list_clusters()` to shutdown all clusters in the gateway."
   ]
  },
  {
   "cell_type": "code",
   "execution_count": null,
   "metadata": {},
   "outputs": [],
   "source": [
    "for cluster in gateway.list_clusters():\n",
    "    print('Stopping %s' % cluster.name)\n",
    "    gateway.stop_cluster(cluster.name)"
   ]
  },
  {
   "cell_type": "markdown",
   "metadata": {},
   "source": [
    "## Starting a Dask cluster directly\n",
    "Here we create a new Dask GatewayCluster object directly using `GatewayCluster()`. This command creates a Dask scheduler pod which will be responsible for scheduling jobs for workers. Because this command starts a pod, it can take several seconds or longer to complete."
   ]
  },
  {
   "cell_type": "code",
   "execution_count": 58,
   "metadata": {},
   "outputs": [],
   "source": [
    "from dask_gateway import GatewayCluster\n",
    "cluster = GatewayCluster()"
   ]
  },
  {
   "cell_type": "code",
   "execution_count": 59,
   "metadata": {},
   "outputs": [],
   "source": [
    "cluster.scale(4)"
   ]
  },
  {
   "cell_type": "code",
   "execution_count": 60,
   "metadata": {},
   "outputs": [],
   "source": [
    "client = cluster.get_client()"
   ]
  },
  {
   "cell_type": "code",
   "execution_count": 66,
   "metadata": {},
   "outputs": [
    {
     "data": {
      "text/html": [
       "<table style=\"border: 2px solid white;\">\n",
       "<tr>\n",
       "<td style=\"vertical-align: top; border: 0px solid white\">\n",
       "<h3 style=\"text-align: left;\">Client</h3>\n",
       "<ul style=\"text-align: left; list-style: none; margin: 0; padding: 0;\">\n",
       "  <li><b>Scheduler: </b>gateway://traefik-ooi-staging-dask-gateway.ooi-staging:80/ooi-staging.0baddcd1d51648488b0c0f1832e96107</li>\n",
       "  <li><b>Dashboard: </b><a href='/services/dask-gateway/clusters/ooi-staging.0baddcd1d51648488b0c0f1832e96107/status' target='_blank'>/services/dask-gateway/clusters/ooi-staging.0baddcd1d51648488b0c0f1832e96107/status</a></li>\n",
       "</ul>\n",
       "</td>\n",
       "<td style=\"vertical-align: top; border: 0px solid white\">\n",
       "<h3 style=\"text-align: left;\">Cluster</h3>\n",
       "<ul style=\"text-align: left; list-style:none; margin: 0; padding: 0;\">\n",
       "  <li><b>Workers: </b>6</li>\n",
       "  <li><b>Cores: </b>6</li>\n",
       "  <li><b>Memory: </b>8.05 GB</li>\n",
       "</ul>\n",
       "</td>\n",
       "</tr>\n",
       "</table>"
      ],
      "text/plain": [
       "<Client: 'tls://10.0.128.53:8786' processes=6 threads=6, memory=8.05 GB>"
      ]
     },
     "execution_count": 66,
     "metadata": {},
     "output_type": "execute_result"
    }
   ],
   "source": [
    "client"
   ]
  },
  {
   "cell_type": "code",
   "execution_count": 64,
   "metadata": {},
   "outputs": [
    {
     "data": {
      "application/vnd.jupyter.widget-view+json": {
       "model_id": "",
       "version_major": 2,
       "version_minor": 0
      },
      "text/plain": [
       "VBox(children=(HTML(value='<h2>GatewayCluster</h2>'), HBox(children=(HTML(value='\\n<div>\\n<style scoped>\\n    …"
      ]
     },
     "metadata": {},
     "output_type": "display_data"
    }
   ],
   "source": [
    "cluster"
   ]
  },
  {
   "cell_type": "code",
   "execution_count": 67,
   "metadata": {},
   "outputs": [],
   "source": [
    "cluster.shutdown()"
   ]
  },
  {
   "cell_type": "markdown",
   "metadata": {},
   "source": [
    "## Create a cluster with modified options"
   ]
  },
  {
   "cell_type": "code",
   "execution_count": 1,
   "metadata": {},
   "outputs": [],
   "source": [
    "from dask_gateway import Gateway\n",
    "gateway = Gateway()\n",
    "options = gateway.cluster_options()"
   ]
  },
  {
   "cell_type": "code",
   "execution_count": 2,
   "metadata": {},
   "outputs": [
    {
     "data": {
      "application/vnd.jupyter.widget-view+json": {
       "model_id": "22ce32d1e44044d394aabb51170884b5",
       "version_major": 2,
       "version_minor": 0
      },
      "text/plain": [
       "VBox(children=(HTML(value='<h2>Cluster Options</h2>'), GridBox(children=(HTML(value=\"<p style='font-weight: bo…"
      ]
     },
     "metadata": {},
     "output_type": "display_data"
    }
   ],
   "source": [
    "options"
   ]
  },
  {
   "cell_type": "code",
   "execution_count": 3,
   "metadata": {},
   "outputs": [],
   "source": [
    "# set the options programatically, or through their HTML repr\n",
    "options.worker_memory = 5\n",
    "options.worker_cores = 1.6"
   ]
  },
  {
   "cell_type": "code",
   "execution_count": 4,
   "metadata": {},
   "outputs": [],
   "source": [
    "# Create a cluster with those options\n",
    "cluster = gateway.new_cluster(options)\n",
    "cluster.scale(4)"
   ]
  },
  {
   "cell_type": "code",
   "execution_count": 5,
   "metadata": {},
   "outputs": [
    {
     "data": {
      "application/vnd.jupyter.widget-view+json": {
       "model_id": "7aa54746375a49a3a14f5faa5728829a",
       "version_major": 2,
       "version_minor": 0
      },
      "text/plain": [
       "VBox(children=(HTML(value='<h2>GatewayCluster</h2>'), HBox(children=(HTML(value='\\n<div>\\n<style scoped>\\n    …"
      ]
     },
     "metadata": {},
     "output_type": "display_data"
    }
   ],
   "source": [
    "cluster"
   ]
  },
  {
   "cell_type": "code",
   "execution_count": 42,
   "metadata": {},
   "outputs": [],
   "source": [
    "client = cluster.get_client()"
   ]
  },
  {
   "cell_type": "code",
   "execution_count": 43,
   "metadata": {},
   "outputs": [
    {
     "data": {
      "text/html": [
       "<table style=\"border: 2px solid white;\">\n",
       "<tr>\n",
       "<td style=\"vertical-align: top; border: 0px solid white\">\n",
       "<h3 style=\"text-align: left;\">Client</h3>\n",
       "<ul style=\"text-align: left; list-style: none; margin: 0; padding: 0;\">\n",
       "  <li><b>Scheduler: </b>gateway://traefik-ooi-staging-dask-gateway.ooi-staging:80/ooi-staging.dae7858a510a4a3f8275010e36b00659</li>\n",
       "  <li><b>Dashboard: </b><a href='/services/dask-gateway/clusters/ooi-staging.dae7858a510a4a3f8275010e36b00659/status' target='_blank'>/services/dask-gateway/clusters/ooi-staging.dae7858a510a4a3f8275010e36b00659/status</a></li>\n",
       "</ul>\n",
       "</td>\n",
       "<td style=\"vertical-align: top; border: 0px solid white\">\n",
       "<h3 style=\"text-align: left;\">Cluster</h3>\n",
       "<ul style=\"text-align: left; list-style:none; margin: 0; padding: 0;\">\n",
       "  <li><b>Workers: </b>0</li>\n",
       "  <li><b>Cores: </b>0</li>\n",
       "  <li><b>Memory: </b>0 B</li>\n",
       "</ul>\n",
       "</td>\n",
       "</tr>\n",
       "</table>"
      ],
      "text/plain": [
       "<Client: 'tls://10.0.128.219:8786' processes=0 threads=0, memory=0 B>"
      ]
     },
     "execution_count": 43,
     "metadata": {},
     "output_type": "execute_result"
    }
   ],
   "source": [
    "client"
   ]
  },
  {
   "cell_type": "code",
   "execution_count": null,
   "metadata": {},
   "outputs": [],
   "source": [
    "cluster.shutdown()"
   ]
  },
  {
   "cell_type": "markdown",
   "metadata": {},
   "source": [
    "## Other misc commands\n",
    "These commands are useful for getting information but aren't normally needed"
   ]
  },
  {
   "cell_type": "code",
   "execution_count": null,
   "metadata": {},
   "outputs": [],
   "source": [
    "import dask"
   ]
  },
  {
   "cell_type": "code",
   "execution_count": null,
   "metadata": {},
   "outputs": [],
   "source": [
    "# get the dask-gateway version\n",
    "dask_gateway.__version__"
   ]
  },
  {
   "cell_type": "code",
   "execution_count": 8,
   "metadata": {},
   "outputs": [
    {
     "data": {
      "text/plain": [
       "{'auth': {'type': 'jupyterhub', 'kwargs': {}},\n",
       " 'cluster': {'options': {'image': '{JUPYTER_IMAGE_SPEC}'}},\n",
       " 'public_address': '/services/dask-gateway/',\n",
       " 'address': 'http://10.1.34.198:8000/services/dask-gateway/',\n",
       " 'proxy_address': 'gateway://traefik-ooi-staging-dask-gateway.ooi-staging:80',\n",
       " 'http-client': {'proxy': True}}"
      ]
     },
     "execution_count": 8,
     "metadata": {},
     "output_type": "execute_result"
    }
   ],
   "source": [
    "# show the default dask-gateway settings\n",
    "dask.config.config['gateway']"
   ]
  },
  {
   "cell_type": "code",
   "execution_count": null,
   "metadata": {},
   "outputs": [],
   "source": [
    "dask.config.config['distributed']['worker']"
   ]
  },
  {
   "cell_type": "code",
   "execution_count": null,
   "metadata": {},
   "outputs": [],
   "source": [
    "# show the current default image to be started on workers\n",
    "os.environ['JUPYTER_IMAGE_SPEC']"
   ]
  },
  {
   "cell_type": "code",
   "execution_count": null,
   "metadata": {},
   "outputs": [],
   "source": [
    "# explicit gateway call\n",
    "#gateway = Gateway(address = 'https://ooi.pangeo.io/services/dask-gateway/',\n",
    "#                  proxy_address = 'gateway://traefik-ooi-prod-dask-gateway.ooi-prod:80',\n",
    "#                  auth = 'jupyterhub')"
   ]
  },
  {
   "cell_type": "code",
   "execution_count": null,
   "metadata": {},
   "outputs": [],
   "source": [
    "#default gateway call\n",
    "gateway = Gateway()"
   ]
  },
  {
   "cell_type": "code",
   "execution_count": null,
   "metadata": {},
   "outputs": [],
   "source": [
    "# call new_cluster with explicit image\n",
    "#cluster = gateway.new_cluster(image=os.environ['JUPYTER_IMAGE'])"
   ]
  },
  {
   "cell_type": "code",
   "execution_count": null,
   "metadata": {},
   "outputs": [],
   "source": [
    "# default new_cluster call\n",
    "cluster = gateway.new_cluster()"
   ]
  },
  {
   "cell_type": "code",
   "execution_count": null,
   "metadata": {},
   "outputs": [],
   "source": [
    "gateway.list_clusters()"
   ]
  },
  {
   "cell_type": "code",
   "execution_count": null,
   "metadata": {},
   "outputs": [],
   "source": [
    "#gateway.stop_cluster('ooi-prod.c78d1e274be647328e9400d681101616')"
   ]
  },
  {
   "cell_type": "code",
   "execution_count": null,
   "metadata": {},
   "outputs": [],
   "source": [
    "# get the name of the new cluster\n",
    "gateway.list_clusters()[0].name"
   ]
  },
  {
   "cell_type": "code",
   "execution_count": null,
   "metadata": {},
   "outputs": [],
   "source": [
    "# connect to cluster that already exists\n",
    "# this is helpful if the cluster exists but it is disconnected for some reason\n",
    "#cluster_name = gateway.list_clusters()[0].name\n",
    "#cluster = gateway.connect(cluster_name)"
   ]
  },
  {
   "cell_type": "code",
   "execution_count": null,
   "metadata": {},
   "outputs": [],
   "source": [
    "# the dashboard_link property will show the link that can be pasted into the Dask labextension\n",
    "cluster.dashboard_link"
   ]
  },
  {
   "cell_type": "code",
   "execution_count": null,
   "metadata": {},
   "outputs": [],
   "source": [
    "client.scheduler_info()['services']"
   ]
  },
  {
   "cell_type": "code",
   "execution_count": null,
   "metadata": {},
   "outputs": [],
   "source": [
    "gateway.address"
   ]
  },
  {
   "cell_type": "code",
   "execution_count": null,
   "metadata": {},
   "outputs": [],
   "source": [
    "cluster.scheduler_address"
   ]
  },
  {
   "cell_type": "code",
   "execution_count": null,
   "metadata": {},
   "outputs": [],
   "source": [
    "cluster.scheduler_comm"
   ]
  },
  {
   "cell_type": "code",
   "execution_count": null,
   "metadata": {},
   "outputs": [],
   "source": [
    "cluster.scheduler_info"
   ]
  }
 ],
 "metadata": {
  "kernelspec": {
   "display_name": "Python 3",
   "language": "python",
   "name": "python3"
  },
  "language_info": {
   "codemirror_mode": {
    "name": "ipython",
    "version": 3
   },
   "file_extension": ".py",
   "mimetype": "text/x-python",
   "name": "python",
   "nbconvert_exporter": "python",
   "pygments_lexer": "ipython3",
   "version": "3.7.8"
  },
  "widgets": {
   "application/vnd.jupyter.widget-state+json": {
    "state": {
     "00f6acaefb1d47b5b7cd6ae7394660f5": {
      "model_module": "@jupyter-widgets/controls",
      "model_module_version": "1.5.0",
      "model_name": "DescriptionStyleModel",
      "state": {
       "description_width": ""
      }
     },
     "013471393a0943b4a1d53efc27cfaf14": {
      "model_module": "@jupyter-widgets/controls",
      "model_module_version": "1.5.0",
      "model_name": "DescriptionStyleModel",
      "state": {
       "description_width": ""
      }
     },
     "0244536c40304430928a4380e77a0ebb": {
      "model_module": "@jupyter-widgets/controls",
      "model_module_version": "1.5.0",
      "model_name": "HTMLModel",
      "state": {
       "layout": "IPY_MODEL_d19133fa426c4e8d9d061b63532594f2",
       "style": "IPY_MODEL_59e6b2c75ba14b3ab2ad517869b416c2",
       "value": "<h2>GatewayCluster</h2>"
      }
     },
     "02adcc5e533b4af2b263e8a7f5928d9a": {
      "model_module": "@jupyter-widgets/controls",
      "model_module_version": "1.5.0",
      "model_name": "HTMLModel",
      "state": {
       "layout": "IPY_MODEL_42595a13f7dc4f7badbb2052e664cfba",
       "style": "IPY_MODEL_7bfc3f1ce9544785b01381720bf4807d",
       "value": "<p style='font-weight: bold'>Worker Cores:</p>"
      }
     },
     "0f53cbc11d054d6ca298d7bbd3f21e72": {
      "model_module": "@jupyter-widgets/controls",
      "model_module_version": "1.5.0",
      "model_name": "HBoxModel",
      "state": {
       "children": [
        "IPY_MODEL_cc7f95a576d44dc7a624c46dbc70a5d1",
        "IPY_MODEL_d05bd6be312b45d4b3f8b48d08fe5f80"
       ],
       "layout": "IPY_MODEL_516c186b7a524268a7c0c6ae284381d7"
      }
     },
     "19527e3a769145ba98054cbbc7566801": {
      "model_module": "@jupyter-widgets/controls",
      "model_module_version": "1.5.0",
      "model_name": "DescriptionStyleModel",
      "state": {
       "description_width": ""
      }
     },
     "19fdfcc888a44a9282b4eb06a5d630a7": {
      "model_module": "@jupyter-widgets/controls",
      "model_module_version": "1.5.0",
      "model_name": "HTMLModel",
      "state": {
       "layout": "IPY_MODEL_6dd6327d1b8747a9a681c058b0425031",
       "style": "IPY_MODEL_8eba4cf873fa4ab088ff86669e7df6b0"
      }
     },
     "22ce32d1e44044d394aabb51170884b5": {
      "model_module": "@jupyter-widgets/controls",
      "model_module_version": "1.5.0",
      "model_name": "VBoxModel",
      "state": {
       "children": [
        "IPY_MODEL_688aa434642a49b6b2dffd5e18b48fac",
        "IPY_MODEL_246a3313020840cfabcc7f360c0cdf6f"
       ],
       "layout": "IPY_MODEL_b6fb7804b4974eeda479a63d8d2547c5"
      }
     },
     "246a3313020840cfabcc7f360c0cdf6f": {
      "model_module": "@jupyter-widgets/controls",
      "model_module_version": "1.5.0",
      "model_name": "GridBoxModel",
      "state": {
       "children": [
        "IPY_MODEL_02adcc5e533b4af2b263e8a7f5928d9a",
        "IPY_MODEL_7576547b5930499889f8d549c8c03fb8",
        "IPY_MODEL_19fdfcc888a44a9282b4eb06a5d630a7",
        "IPY_MODEL_c8a4a0e95a5c4c3092ddecc4dc367f40",
        "IPY_MODEL_f0430a0477a249868af366e3243a6bd4",
        "IPY_MODEL_faf7b29fe7824ef6b44a5cc202c92c1a",
        "IPY_MODEL_a698085ef54247a78d60fee4818f859e",
        "IPY_MODEL_9475551af2b4408da2a4f59fd148a0fe",
        "IPY_MODEL_707263d63b9a4ba181e95d80bf1911b6",
        "IPY_MODEL_6ec3ea6dab7444c592d521511e504dc0",
        "IPY_MODEL_a4da74a6a1214efd94f58774e66bff4b",
        "IPY_MODEL_3d566c8ece6242c08ce8c6fafea61a8c"
       ],
       "layout": "IPY_MODEL_5e19e89ccc4d467ba62d122418dcc9e4"
      }
     },
     "30571f35c14b43148f8ddd426007a3ed": {
      "model_module": "@jupyter-widgets/controls",
      "model_module_version": "1.5.0",
      "model_name": "DescriptionStyleModel",
      "state": {
       "description_width": ""
      }
     },
     "32cf9bc51e314509929d11c8e7d19c1a": {
      "model_module": "@jupyter-widgets/base",
      "model_module_version": "1.2.0",
      "model_name": "LayoutModel",
      "state": {
       "width": "150px"
      }
     },
     "354411aa58cc4ef182737963030d1927": {
      "model_module": "@jupyter-widgets/controls",
      "model_module_version": "1.5.0",
      "model_name": "DescriptionStyleModel",
      "state": {
       "description_width": ""
      }
     },
     "391688e6ad014690932858ea9d6a6854": {
      "model_module": "@jupyter-widgets/base",
      "model_module_version": "1.2.0",
      "model_name": "LayoutModel",
      "state": {}
     },
     "3d566c8ece6242c08ce8c6fafea61a8c": {
      "model_module": "@jupyter-widgets/controls",
      "model_module_version": "1.5.0",
      "model_name": "HTMLModel",
      "state": {
       "layout": "IPY_MODEL_891b037773ed446c8b3b177951f38c77",
       "style": "IPY_MODEL_779035affa094bf8a4065129d9ba8cce"
      }
     },
     "42595a13f7dc4f7badbb2052e664cfba": {
      "model_module": "@jupyter-widgets/base",
      "model_module_version": "1.2.0",
      "model_name": "LayoutModel",
      "state": {}
     },
     "42eb99c0cb58422687bffa4f1b3b314e": {
      "model_module": "@jupyter-widgets/controls",
      "model_module_version": "1.5.0",
      "model_name": "ButtonModel",
      "state": {
       "description": "Adapt",
       "layout": "IPY_MODEL_32cf9bc51e314509929d11c8e7d19c1a",
       "style": "IPY_MODEL_8dede59bca544f288b1e24ee88fe9698"
      }
     },
     "4feb825d3391454897bc5379e63786f6": {
      "model_module": "@jupyter-widgets/base",
      "model_module_version": "1.2.0",
      "model_name": "LayoutModel",
      "state": {}
     },
     "5165c7a6aaaa4631b307cef8c5dc3dc7": {
      "model_module": "@jupyter-widgets/controls",
      "model_module_version": "1.5.0",
      "model_name": "DescriptionStyleModel",
      "state": {
       "description_width": ""
      }
     },
     "516c186b7a524268a7c0c6ae284381d7": {
      "model_module": "@jupyter-widgets/base",
      "model_module_version": "1.2.0",
      "model_name": "LayoutModel",
      "state": {}
     },
     "51dcdb0a83504b6b969703470897772a": {
      "model_module": "@jupyter-widgets/controls",
      "model_module_version": "1.5.0",
      "model_name": "HBoxModel",
      "state": {
       "children": [
        "IPY_MODEL_d5a895b5549d44709559f5183a8d2256",
        "IPY_MODEL_f2631cad8cff446e8e6fe18e5d489a84",
        "IPY_MODEL_42eb99c0cb58422687bffa4f1b3b314e"
       ],
       "layout": "IPY_MODEL_e7509579909b419ea2dfdcd5d01fcd12"
      }
     },
     "59e6b2c75ba14b3ab2ad517869b416c2": {
      "model_module": "@jupyter-widgets/controls",
      "model_module_version": "1.5.0",
      "model_name": "DescriptionStyleModel",
      "state": {
       "description_width": ""
      }
     },
     "5a50d5d5b44d40f7b2ed1cad002325c9": {
      "model_module": "@jupyter-widgets/base",
      "model_module_version": "1.2.0",
      "model_name": "LayoutModel",
      "state": {}
     },
     "5e19e89ccc4d467ba62d122418dcc9e4": {
      "model_module": "@jupyter-widgets/base",
      "model_module_version": "1.2.0",
      "model_name": "LayoutModel",
      "state": {
       "grid_gap": "5px 5px",
       "grid_template_columns": "auto auto auto",
       "justify_content": "flex-start"
      }
     },
     "5f11648b6a6344019fba24c33ebaf1c9": {
      "model_module": "@jupyter-widgets/controls",
      "model_module_version": "1.5.0",
      "model_name": "DescriptionStyleModel",
      "state": {
       "description_width": ""
      }
     },
     "6026e7cba80948aa8be6f7c79278790c": {
      "model_module": "@jupyter-widgets/base",
      "model_module_version": "1.2.0",
      "model_name": "LayoutModel",
      "state": {}
     },
     "603e55140c1443198beed43dc0c90748": {
      "model_module": "@jupyter-widgets/controls",
      "model_module_version": "1.5.0",
      "model_name": "AccordionModel",
      "state": {
       "_titles": {
        "0": "Manual Scaling",
        "1": "Adaptive Scaling"
       },
       "children": [
        "IPY_MODEL_0f53cbc11d054d6ca298d7bbd3f21e72",
        "IPY_MODEL_51dcdb0a83504b6b969703470897772a"
       ],
       "layout": "IPY_MODEL_bb8f526ececb45fbadd989bb8f9d4e22",
       "selected_index": null
      }
     },
     "63bee85e901645c58327e34812e88891": {
      "model_module": "@jupyter-widgets/controls",
      "model_module_version": "1.5.0",
      "model_name": "DescriptionStyleModel",
      "state": {
       "description_width": ""
      }
     },
     "64be446bb7f84374913edc59d808a5f1": {
      "model_module": "@jupyter-widgets/controls",
      "model_module_version": "1.5.0",
      "model_name": "HTMLModel",
      "state": {
       "layout": "IPY_MODEL_cbc3df882fdb490380e0d1687805c0b2",
       "style": "IPY_MODEL_cc0209f03bca4d318f1dbdd55e177402",
       "value": "\n<div>\n<style scoped>\n    .dataframe tbody tr th:only-of-type {\n        vertical-align: middle;\n    }\n\n    .dataframe tbody tr th {\n        vertical-align: top;\n    }\n\n    .dataframe thead th {\n        text-align: right;\n    }\n</style>\n<table style=\"text-align: right;\">\n    <tr><th>Workers</th> <td>0</td></tr>\n    <tr><th>Cores</th> <td>0</td></tr>\n    <tr><th>Memory</th> <td>0 B</td></tr>\n</table>\n</div>\n"
      }
     },
     "688aa434642a49b6b2dffd5e18b48fac": {
      "model_module": "@jupyter-widgets/controls",
      "model_module_version": "1.5.0",
      "model_name": "HTMLModel",
      "state": {
       "layout": "IPY_MODEL_e3a45d0828d44b87bb81972362c4445a",
       "style": "IPY_MODEL_354411aa58cc4ef182737963030d1927",
       "value": "<h2>Cluster Options</h2>"
      }
     },
     "6dd6327d1b8747a9a681c058b0425031": {
      "model_module": "@jupyter-widgets/base",
      "model_module_version": "1.2.0",
      "model_name": "LayoutModel",
      "state": {}
     },
     "6ec3ea6dab7444c592d521511e504dc0": {
      "model_module": "@jupyter-widgets/controls",
      "model_module_version": "1.5.0",
      "model_name": "HTMLModel",
      "state": {
       "layout": "IPY_MODEL_391688e6ad014690932858ea9d6a6854",
       "style": "IPY_MODEL_a5456e07b5c249dea3c3337eb7541d62",
       "value": "<p style='font-weight: bold'>Environment Variables:</p>"
      }
     },
     "707263d63b9a4ba181e95d80bf1911b6": {
      "model_module": "@jupyter-widgets/controls",
      "model_module_version": "1.5.0",
      "model_name": "HTMLModel",
      "state": {
       "layout": "IPY_MODEL_5a50d5d5b44d40f7b2ed1cad002325c9",
       "style": "IPY_MODEL_9046591caa7545a79f2df0d0618ef7be"
      }
     },
     "7405c985f27c445cb4a53696f26180d3": {
      "model_module": "@jupyter-widgets/controls",
      "model_module_version": "1.5.0",
      "model_name": "HTMLModel",
      "state": {
       "layout": "IPY_MODEL_c1b4311c637c48a7b798e775e6dabdd1",
       "style": "IPY_MODEL_013471393a0943b4a1d53efc27cfaf14",
       "value": "<p><b>Dashboard: </b><a href=\"/services/dask-gateway/clusters/ooi-staging.c55fd9c32735400f83cabaf099a3b348/status\" target=\"_blank\">/services/dask-gateway/clusters/ooi-staging.c55fd9c32735400f83cabaf099a3b348/status</a></p>\n"
      }
     },
     "7576547b5930499889f8d549c8c03fb8": {
      "model_module": "@jupyter-widgets/controls",
      "model_module_version": "1.5.0",
      "model_name": "BoundedFloatTextModel",
      "state": {
       "layout": "IPY_MODEL_4feb825d3391454897bc5379e63786f6",
       "max": 1.6,
       "min": 0.4,
       "step": null,
       "style": "IPY_MODEL_30571f35c14b43148f8ddd426007a3ed",
       "value": 1.6
      }
     },
     "779035affa094bf8a4065129d9ba8cce": {
      "model_module": "@jupyter-widgets/controls",
      "model_module_version": "1.5.0",
      "model_name": "DescriptionStyleModel",
      "state": {
       "description_width": ""
      }
     },
     "7aa54746375a49a3a14f5faa5728829a": {
      "model_module": "@jupyter-widgets/controls",
      "model_module_version": "1.5.0",
      "model_name": "VBoxModel",
      "state": {
       "children": [
        "IPY_MODEL_0244536c40304430928a4380e77a0ebb",
        "IPY_MODEL_a3e119f30bc14c3a8e0e50608603b1ff",
        "IPY_MODEL_940b83e9ceb647a4b6d0b1df13d097de",
        "IPY_MODEL_7405c985f27c445cb4a53696f26180d3"
       ],
       "layout": "IPY_MODEL_960b087ec05f498f83a27e662b28db18"
      }
     },
     "7bfc3f1ce9544785b01381720bf4807d": {
      "model_module": "@jupyter-widgets/controls",
      "model_module_version": "1.5.0",
      "model_name": "DescriptionStyleModel",
      "state": {
       "description_width": ""
      }
     },
     "891b037773ed446c8b3b177951f38c77": {
      "model_module": "@jupyter-widgets/base",
      "model_module_version": "1.2.0",
      "model_name": "LayoutModel",
      "state": {}
     },
     "8d54e5c104df4f1f8adc8877d1e874c1": {
      "model_module": "@jupyter-widgets/base",
      "model_module_version": "1.2.0",
      "model_name": "LayoutModel",
      "state": {}
     },
     "8dede59bca544f288b1e24ee88fe9698": {
      "model_module": "@jupyter-widgets/controls",
      "model_module_version": "1.5.0",
      "model_name": "ButtonStyleModel",
      "state": {}
     },
     "8eba4cf873fa4ab088ff86669e7df6b0": {
      "model_module": "@jupyter-widgets/controls",
      "model_module_version": "1.5.0",
      "model_name": "DescriptionStyleModel",
      "state": {
       "description_width": ""
      }
     },
     "9046591caa7545a79f2df0d0618ef7be": {
      "model_module": "@jupyter-widgets/controls",
      "model_module_version": "1.5.0",
      "model_name": "DescriptionStyleModel",
      "state": {
       "description_width": ""
      }
     },
     "940b83e9ceb647a4b6d0b1df13d097de": {
      "model_module": "@jupyter-widgets/controls",
      "model_module_version": "1.5.0",
      "model_name": "HTMLModel",
      "state": {
       "layout": "IPY_MODEL_8d54e5c104df4f1f8adc8877d1e874c1",
       "style": "IPY_MODEL_5f11648b6a6344019fba24c33ebaf1c9",
       "value": "<p><b>Name: </b>ooi-staging.c55fd9c32735400f83cabaf099a3b348</p>"
      }
     },
     "9475551af2b4408da2a4f59fd148a0fe": {
      "model_module": "@jupyter-widgets/controls",
      "model_module_version": "1.5.0",
      "model_name": "TextModel",
      "state": {
       "continuous_update": false,
       "layout": "IPY_MODEL_6026e7cba80948aa8be6f7c79278790c",
       "style": "IPY_MODEL_96936d61899e4bdb888ff87a51f8cfe5",
       "value": "ooicloud.azurecr.io/ooi-pangeo-io-notebook:4f4e6c6"
      }
     },
     "95309095e3c148c09b961cf9a80c394b": {
      "model_module": "@jupyter-widgets/controls",
      "model_module_version": "1.5.0",
      "model_name": "ButtonStyleModel",
      "state": {}
     },
     "960b087ec05f498f83a27e662b28db18": {
      "model_module": "@jupyter-widgets/base",
      "model_module_version": "1.2.0",
      "model_name": "LayoutModel",
      "state": {}
     },
     "96936d61899e4bdb888ff87a51f8cfe5": {
      "model_module": "@jupyter-widgets/controls",
      "model_module_version": "1.5.0",
      "model_name": "DescriptionStyleModel",
      "state": {
       "description_width": ""
      }
     },
     "9b7cbf021c7f4106bda6c584dd007aab": {
      "model_module": "@jupyter-widgets/base",
      "model_module_version": "1.2.0",
      "model_name": "LayoutModel",
      "state": {}
     },
     "9fc970157cbd46ab8e79610e95f24a03": {
      "model_module": "@jupyter-widgets/base",
      "model_module_version": "1.2.0",
      "model_name": "LayoutModel",
      "state": {}
     },
     "a3e119f30bc14c3a8e0e50608603b1ff": {
      "model_module": "@jupyter-widgets/controls",
      "model_module_version": "1.5.0",
      "model_name": "HBoxModel",
      "state": {
       "children": [
        "IPY_MODEL_64be446bb7f84374913edc59d808a5f1",
        "IPY_MODEL_603e55140c1443198beed43dc0c90748"
       ],
       "layout": "IPY_MODEL_d12898739f6c4bd6887c34f3a90a2ae5"
      }
     },
     "a4421b568b81416a95b230bab26afc24": {
      "model_module": "@jupyter-widgets/controls",
      "model_module_version": "1.5.0",
      "model_name": "DescriptionStyleModel",
      "state": {
       "description_width": ""
      }
     },
     "a4da74a6a1214efd94f58774e66bff4b": {
      "model_module": "@jupyter-widgets/controls",
      "model_module_version": "1.5.0",
      "model_name": "TextareaModel",
      "state": {
       "continuous_update": false,
       "layout": "IPY_MODEL_b3d5aef1b8e04653891e5ac781b4dde7",
       "placeholder": "Enter yaml or json...",
       "style": "IPY_MODEL_b19716836e47459ca99a8477312a7733"
      }
     },
     "a5456e07b5c249dea3c3337eb7541d62": {
      "model_module": "@jupyter-widgets/controls",
      "model_module_version": "1.5.0",
      "model_name": "DescriptionStyleModel",
      "state": {
       "description_width": ""
      }
     },
     "a698085ef54247a78d60fee4818f859e": {
      "model_module": "@jupyter-widgets/controls",
      "model_module_version": "1.5.0",
      "model_name": "HTMLModel",
      "state": {
       "layout": "IPY_MODEL_9fc970157cbd46ab8e79610e95f24a03",
       "style": "IPY_MODEL_a4421b568b81416a95b230bab26afc24",
       "value": "<p style='font-weight: bold'>Image:</p>"
      }
     },
     "b19716836e47459ca99a8477312a7733": {
      "model_module": "@jupyter-widgets/controls",
      "model_module_version": "1.5.0",
      "model_name": "DescriptionStyleModel",
      "state": {
       "description_width": ""
      }
     },
     "b3d5aef1b8e04653891e5ac781b4dde7": {
      "model_module": "@jupyter-widgets/base",
      "model_module_version": "1.2.0",
      "model_name": "LayoutModel",
      "state": {}
     },
     "b436c4481623453dbf56c2875742867d": {
      "model_module": "@jupyter-widgets/controls",
      "model_module_version": "1.5.0",
      "model_name": "DescriptionStyleModel",
      "state": {
       "description_width": ""
      }
     },
     "b6fb7804b4974eeda479a63d8d2547c5": {
      "model_module": "@jupyter-widgets/base",
      "model_module_version": "1.2.0",
      "model_name": "LayoutModel",
      "state": {}
     },
     "b95b1eb9ddaf4bc9bee20fe31fbb082d": {
      "model_module": "@jupyter-widgets/controls",
      "model_module_version": "1.5.0",
      "model_name": "DescriptionStyleModel",
      "state": {
       "description_width": ""
      }
     },
     "bb8f526ececb45fbadd989bb8f9d4e22": {
      "model_module": "@jupyter-widgets/base",
      "model_module_version": "1.2.0",
      "model_name": "LayoutModel",
      "state": {
       "min_width": "500px"
      }
     },
     "c1b4311c637c48a7b798e775e6dabdd1": {
      "model_module": "@jupyter-widgets/base",
      "model_module_version": "1.2.0",
      "model_name": "LayoutModel",
      "state": {}
     },
     "c8a4a0e95a5c4c3092ddecc4dc367f40": {
      "model_module": "@jupyter-widgets/controls",
      "model_module_version": "1.5.0",
      "model_name": "HTMLModel",
      "state": {
       "layout": "IPY_MODEL_9b7cbf021c7f4106bda6c584dd007aab",
       "style": "IPY_MODEL_63bee85e901645c58327e34812e88891",
       "value": "<p style='font-weight: bold'>Worker Memory (GiB):</p>"
      }
     },
     "cbc3df882fdb490380e0d1687805c0b2": {
      "model_module": "@jupyter-widgets/base",
      "model_module_version": "1.2.0",
      "model_name": "LayoutModel",
      "state": {
       "min_width": "150px"
      }
     },
     "cc0209f03bca4d318f1dbdd55e177402": {
      "model_module": "@jupyter-widgets/controls",
      "model_module_version": "1.5.0",
      "model_name": "DescriptionStyleModel",
      "state": {
       "description_width": ""
      }
     },
     "cc7f95a576d44dc7a624c46dbc70a5d1": {
      "model_module": "@jupyter-widgets/controls",
      "model_module_version": "1.5.0",
      "model_name": "IntTextModel",
      "state": {
       "description": "Workers",
       "layout": "IPY_MODEL_32cf9bc51e314509929d11c8e7d19c1a",
       "step": 1,
       "style": "IPY_MODEL_19527e3a769145ba98054cbbc7566801"
      }
     },
     "d05bd6be312b45d4b3f8b48d08fe5f80": {
      "model_module": "@jupyter-widgets/controls",
      "model_module_version": "1.5.0",
      "model_name": "ButtonModel",
      "state": {
       "description": "Scale",
       "layout": "IPY_MODEL_32cf9bc51e314509929d11c8e7d19c1a",
       "style": "IPY_MODEL_95309095e3c148c09b961cf9a80c394b"
      }
     },
     "d12898739f6c4bd6887c34f3a90a2ae5": {
      "model_module": "@jupyter-widgets/base",
      "model_module_version": "1.2.0",
      "model_name": "LayoutModel",
      "state": {}
     },
     "d19133fa426c4e8d9d061b63532594f2": {
      "model_module": "@jupyter-widgets/base",
      "model_module_version": "1.2.0",
      "model_name": "LayoutModel",
      "state": {}
     },
     "d5a895b5549d44709559f5183a8d2256": {
      "model_module": "@jupyter-widgets/controls",
      "model_module_version": "1.5.0",
      "model_name": "IntTextModel",
      "state": {
       "description": "Minimum",
       "layout": "IPY_MODEL_32cf9bc51e314509929d11c8e7d19c1a",
       "step": 1,
       "style": "IPY_MODEL_b436c4481623453dbf56c2875742867d"
      }
     },
     "d9c3cf1e2c054f379d6a5aa70f21e7e9": {
      "model_module": "@jupyter-widgets/base",
      "model_module_version": "1.2.0",
      "model_name": "LayoutModel",
      "state": {}
     },
     "dc1294a40abe4ca796c4f80f88fbf638": {
      "model_module": "@jupyter-widgets/base",
      "model_module_version": "1.2.0",
      "model_name": "LayoutModel",
      "state": {}
     },
     "e3a45d0828d44b87bb81972362c4445a": {
      "model_module": "@jupyter-widgets/base",
      "model_module_version": "1.2.0",
      "model_name": "LayoutModel",
      "state": {}
     },
     "e7509579909b419ea2dfdcd5d01fcd12": {
      "model_module": "@jupyter-widgets/base",
      "model_module_version": "1.2.0",
      "model_name": "LayoutModel",
      "state": {}
     },
     "f0430a0477a249868af366e3243a6bd4": {
      "model_module": "@jupyter-widgets/controls",
      "model_module_version": "1.5.0",
      "model_name": "BoundedFloatTextModel",
      "state": {
       "layout": "IPY_MODEL_d9c3cf1e2c054f379d6a5aa70f21e7e9",
       "max": 5,
       "min": 1.25,
       "step": null,
       "style": "IPY_MODEL_5165c7a6aaaa4631b307cef8c5dc3dc7",
       "value": 5
      }
     },
     "f2631cad8cff446e8e6fe18e5d489a84": {
      "model_module": "@jupyter-widgets/controls",
      "model_module_version": "1.5.0",
      "model_name": "IntTextModel",
      "state": {
       "description": "Maximum",
       "layout": "IPY_MODEL_32cf9bc51e314509929d11c8e7d19c1a",
       "step": 1,
       "style": "IPY_MODEL_b95b1eb9ddaf4bc9bee20fe31fbb082d"
      }
     },
     "faf7b29fe7824ef6b44a5cc202c92c1a": {
      "model_module": "@jupyter-widgets/controls",
      "model_module_version": "1.5.0",
      "model_name": "HTMLModel",
      "state": {
       "layout": "IPY_MODEL_dc1294a40abe4ca796c4f80f88fbf638",
       "style": "IPY_MODEL_00f6acaefb1d47b5b7cd6ae7394660f5"
      }
     }
    },
    "version_major": 2,
    "version_minor": 0
   }
  }
 },
 "nbformat": 4,
 "nbformat_minor": 4
}
