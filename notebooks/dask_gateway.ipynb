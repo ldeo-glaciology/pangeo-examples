{
 "cells": [
  {
   "cell_type": "markdown",
   "metadata": {},
   "source": [
    "# Dask Gateway Example Notebook\n",
    "Here are some commands for starting and working with a Dask Gateway cluster."
   ]
  },
  {
   "cell_type": "markdown",
   "metadata": {},
   "source": [
    "## Start Dask cluster"
   ]
  },
  {
   "cell_type": "code",
   "execution_count": 1,
   "metadata": {},
   "outputs": [],
   "source": [
    "import os\n",
    "import dask\n",
    "from dask_gateway import Gateway\n",
    "from dask.distributed import Client\n",
    "import dask_gateway\n",
    "import dask.array as da"
   ]
  },
  {
   "cell_type": "code",
   "execution_count": 2,
   "metadata": {},
   "outputs": [
    {
     "data": {
      "text/plain": [
       "'0.7.1'"
      ]
     },
     "execution_count": 2,
     "metadata": {},
     "output_type": "execute_result"
    }
   ],
   "source": [
    "# get the dask-gateway version\n",
    "dask_gateway.__version__"
   ]
  },
  {
   "cell_type": "code",
   "execution_count": 3,
   "metadata": {},
   "outputs": [
    {
     "data": {
      "text/plain": [
       "{'auth': {'type': 'jupyterhub', 'kwargs': {}},\n",
       " 'cluster': {'options': {'image': '{JUPYTER_IMAGE_SPEC}'}},\n",
       " 'address': 'https://staging.ooi.pangeo.io/services/dask-gateway/',\n",
       " 'proxy_address': 'gateway://traefik-ooi-staging-dask-gateway.ooi-staging:80',\n",
       " 'public-address': None,\n",
       " 'http-client': {'proxy': True}}"
      ]
     },
     "execution_count": 3,
     "metadata": {},
     "output_type": "execute_result"
    }
   ],
   "source": [
    "# show the default dask-gateway settings\n",
    "dask.config.config['gateway']"
   ]
  },
  {
   "cell_type": "code",
   "execution_count": 4,
   "metadata": {},
   "outputs": [
    {
     "data": {
      "text/plain": [
       "'ooicloud.azurecr.io/ooi-pangeo-io-notebook:1590ac8'"
      ]
     },
     "execution_count": 4,
     "metadata": {},
     "output_type": "execute_result"
    }
   ],
   "source": [
    "# show the current default image to be started on workers\n",
    "os.environ['JUPYTER_IMAGE_SPEC']"
   ]
  },
  {
   "cell_type": "code",
   "execution_count": 5,
   "metadata": {},
   "outputs": [],
   "source": [
    "# explicit gateway call\n",
    "#gateway = Gateway(address = 'https://staging.ooi.pangeo.io/services/dask-gateway/',\n",
    "#                  proxy_address = 'gateway://traefik-ooi-staging-dask-gateway.ooi-staging:80',\n",
    "#                  auth = 'jupyterhub')"
   ]
  },
  {
   "cell_type": "code",
   "execution_count": 6,
   "metadata": {},
   "outputs": [],
   "source": [
    "#default gateway call\n",
    "gateway = Gateway()"
   ]
  },
  {
   "cell_type": "code",
   "execution_count": 7,
   "metadata": {},
   "outputs": [],
   "source": [
    "# call new_cluster with explicit image\n",
    "#cluster = gateway.new_cluster(image=os.environ['JUPYTER_IMAGE'])"
   ]
  },
  {
   "cell_type": "code",
   "execution_count": 8,
   "metadata": {},
   "outputs": [],
   "source": [
    "# default new_cluster call\n",
    "cluster = gateway.new_cluster()"
   ]
  },
  {
   "cell_type": "code",
   "execution_count": 9,
   "metadata": {},
   "outputs": [
    {
     "data": {
      "text/plain": [
       "'ooi-staging.cf96bf958a0647739ed95448721d0b35'"
      ]
     },
     "execution_count": 9,
     "metadata": {},
     "output_type": "execute_result"
    }
   ],
   "source": [
    "# get the name of the new cluster\n",
    "gateway.list_clusters()[0].name"
   ]
  },
  {
   "cell_type": "code",
   "execution_count": 10,
   "metadata": {},
   "outputs": [],
   "source": [
    "# connect to cluster that already exists\n",
    "# this is helpful if the cluster exists but it is disconnected for some reason\n",
    "#cluster_name = gateway.list_clusters()[0].name\n",
    "#cluster = gateway.connect(cluster_name)"
   ]
  },
  {
   "cell_type": "code",
   "execution_count": 11,
   "metadata": {},
   "outputs": [
    {
     "data": {
      "text/plain": [
       "'https://staging.ooi.pangeo.io/services/dask-gateway/clusters/ooi-staging.cf96bf958a0647739ed95448721d0b35/status'"
      ]
     },
     "execution_count": 11,
     "metadata": {},
     "output_type": "execute_result"
    }
   ],
   "source": [
    "# the dashboard_link property will show the link that can be pasted into the Dask labextension\n",
    "cluster.dashboard_link"
   ]
  },
  {
   "cell_type": "markdown",
   "metadata": {},
   "source": [
    "## Scale cluster and connect a client\n",
    "\"cluster\" will show the interactive scaling controls and the dashboard link, which can be pasted into the Dask labextension."
   ]
  },
  {
   "cell_type": "code",
   "execution_count": 12,
   "metadata": {},
   "outputs": [
    {
     "data": {
      "application/vnd.jupyter.widget-view+json": {
       "model_id": "fe24ea503641482dadba24aa7ffe9abb",
       "version_major": 2,
       "version_minor": 0
      },
      "text/plain": [
       "VBox(children=(HTML(value='<h2>GatewayCluster</h2>'), HBox(children=(HTML(value='\\n<div>\\n<style scoped>\\n    …"
      ]
     },
     "metadata": {},
     "output_type": "display_data"
    }
   ],
   "source": [
    "cluster"
   ]
  },
  {
   "cell_type": "code",
   "execution_count": 13,
   "metadata": {},
   "outputs": [],
   "source": [
    "# scale cluster to 4 workers using the scale() method\n",
    "cluster.scale(4)"
   ]
  },
  {
   "cell_type": "code",
   "execution_count": 14,
   "metadata": {},
   "outputs": [],
   "source": [
    "# connect a client\n",
    "# the distributed client is used for running parallel tasks with Dask\n",
    "client = Client(cluster)"
   ]
  },
  {
   "cell_type": "code",
   "execution_count": 15,
   "metadata": {},
   "outputs": [
    {
     "data": {
      "text/html": [
       "<table style=\"border: 2px solid white;\">\n",
       "<tr>\n",
       "<td style=\"vertical-align: top; border: 0px solid white\">\n",
       "<h3 style=\"text-align: left;\">Client</h3>\n",
       "<ul style=\"text-align: left; list-style: none; margin: 0; padding: 0;\">\n",
       "  <li><b>Scheduler: </b>gateway://traefik-ooi-staging-dask-gateway.ooi-staging:80/ooi-staging.cf96bf958a0647739ed95448721d0b35</li>\n",
       "  <li><b>Dashboard: </b><a href='https://staging.ooi.pangeo.io/services/dask-gateway/clusters/ooi-staging.cf96bf958a0647739ed95448721d0b35/status' target='_blank'>https://staging.ooi.pangeo.io/services/dask-gateway/clusters/ooi-staging.cf96bf958a0647739ed95448721d0b35/status</a></li>\n",
       "</ul>\n",
       "</td>\n",
       "<td style=\"vertical-align: top; border: 0px solid white\">\n",
       "<h3 style=\"text-align: left;\">Cluster</h3>\n",
       "<ul style=\"text-align: left; list-style:none; margin: 0; padding: 0;\">\n",
       "  <li><b>Workers: </b>4</li>\n",
       "  <li><b>Cores: </b>8</li>\n",
       "  <li><b>Memory: </b>17.18 GB</li>\n",
       "</ul>\n",
       "</td>\n",
       "</tr>\n",
       "</table>"
      ],
      "text/plain": [
       "<Client: 'tls://10.0.130.193:8786' processes=4 threads=8, memory=17.18 GB>"
      ]
     },
     "execution_count": 15,
     "metadata": {},
     "output_type": "execute_result"
    }
   ],
   "source": [
    "client"
   ]
  },
  {
   "cell_type": "markdown",
   "metadata": {},
   "source": [
    "## Test Dask cluster"
   ]
  },
  {
   "cell_type": "code",
   "execution_count": 16,
   "metadata": {},
   "outputs": [
    {
     "name": "stdout",
     "output_type": "stream",
     "text": [
      "CPU times: user 429 ms, sys: 56.4 ms, total: 485 ms\n",
      "Wall time: 18.6 s\n"
     ]
    },
    {
     "data": {
      "text/plain": [
       "-6.609074951680086e-06"
      ]
     },
     "execution_count": 16,
     "metadata": {},
     "output_type": "execute_result"
    }
   ],
   "source": [
    "%%time\n",
    "a = da.random.normal(size=(10000, 100000), chunks=(500, 500))\n",
    "f = client.submit(a.mean().compute)\n",
    "f.result()"
   ]
  },
  {
   "cell_type": "markdown",
   "metadata": {},
   "source": [
    "## Other misc commands\n",
    "These commands are useful for getting information but aren't normally needed"
   ]
  },
  {
   "cell_type": "code",
   "execution_count": 17,
   "metadata": {},
   "outputs": [],
   "source": [
    "options = gateway.cluster_options()"
   ]
  },
  {
   "cell_type": "code",
   "execution_count": 18,
   "metadata": {},
   "outputs": [
    {
     "data": {
      "application/vnd.jupyter.widget-view+json": {
       "model_id": "34b44a8208534d0d8e233cc23e5ba209",
       "version_major": 2,
       "version_minor": 0
      },
      "text/plain": [
       "Box(children=(Box(children=(HTML(value='<h2>Cluster Options</h2>'), Box(children=(HTML(value=\"<p style='font-w…"
      ]
     },
     "metadata": {},
     "output_type": "display_data"
    }
   ],
   "source": [
    "options"
   ]
  },
  {
   "cell_type": "code",
   "execution_count": 19,
   "metadata": {},
   "outputs": [],
   "source": [
    "options.worker_cores = 4"
   ]
  },
  {
   "cell_type": "code",
   "execution_count": 20,
   "metadata": {},
   "outputs": [
    {
     "data": {
      "text/plain": [
       "{'dashboard': 8787, 'gateway': 8788}"
      ]
     },
     "execution_count": 20,
     "metadata": {},
     "output_type": "execute_result"
    }
   ],
   "source": [
    "client.scheduler_info()['services']"
   ]
  },
  {
   "cell_type": "code",
   "execution_count": 21,
   "metadata": {},
   "outputs": [],
   "source": [
    "#cluster.get_client()"
   ]
  },
  {
   "cell_type": "code",
   "execution_count": 22,
   "metadata": {},
   "outputs": [
    {
     "data": {
      "text/plain": [
       "'https://staging.ooi.pangeo.io/services/dask-gateway'"
      ]
     },
     "execution_count": 22,
     "metadata": {},
     "output_type": "execute_result"
    }
   ],
   "source": [
    "gateway.address"
   ]
  },
  {
   "cell_type": "code",
   "execution_count": 23,
   "metadata": {},
   "outputs": [
    {
     "data": {
      "text/plain": [
       "'gateway://traefik-ooi-staging-dask-gateway.ooi-staging:80/ooi-staging.cf96bf958a0647739ed95448721d0b35'"
      ]
     },
     "execution_count": 23,
     "metadata": {},
     "output_type": "execute_result"
    }
   ],
   "source": [
    "cluster.scheduler_address"
   ]
  },
  {
   "cell_type": "code",
   "execution_count": 24,
   "metadata": {},
   "outputs": [
    {
     "data": {
      "text/plain": [
       "<rpc to 'gateway://traefik-ooi-staging-dask-gateway.ooi-staging:80/ooi-staging.cf96bf958a0647739ed95448721d0b35', 1 comms>"
      ]
     },
     "execution_count": 24,
     "metadata": {},
     "output_type": "execute_result"
    }
   ],
   "source": [
    "cluster.scheduler_comm"
   ]
  },
  {
   "cell_type": "code",
   "execution_count": 25,
   "metadata": {},
   "outputs": [
    {
     "data": {
      "text/plain": [
       "{'type': 'Scheduler',\n",
       " 'id': 'Scheduler-c5d0ab85-ab85-49ff-bfce-81cd8f0345a7',\n",
       " 'address': 'tls://10.0.130.193:8786',\n",
       " 'services': {'dashboard': 8787, 'gateway': 8788},\n",
       " 'workers': {'tls://10.0.129.112:40357': {'type': 'Worker',\n",
       "   'id': 'dask-gateway-nwt5r',\n",
       "   'host': '10.0.129.112',\n",
       "   'resources': {},\n",
       "   'local_directory': '/home/jovyan/worker-ehx3jot4',\n",
       "   'name': 'dask-gateway-nwt5r',\n",
       "   'nthreads': 2,\n",
       "   'memory_limit': 4294967296,\n",
       "   'services': {'dashboard': 45015},\n",
       "   'nanny': 'tls://10.0.129.112:37095'},\n",
       "  'tls://10.0.129.30:34303': {'type': 'Worker',\n",
       "   'id': 'dask-gateway-s5x6v',\n",
       "   'host': '10.0.129.30',\n",
       "   'resources': {},\n",
       "   'local_directory': '/home/jovyan/worker-91ov5ybt',\n",
       "   'name': 'dask-gateway-s5x6v',\n",
       "   'nthreads': 2,\n",
       "   'memory_limit': 4294967296,\n",
       "   'services': {'dashboard': 40761},\n",
       "   'nanny': 'tls://10.0.129.30:34823'},\n",
       "  'tls://10.0.128.12:33021': {'type': 'Worker',\n",
       "   'id': 'dask-gateway-z4rp5',\n",
       "   'host': '10.0.128.12',\n",
       "   'resources': {},\n",
       "   'local_directory': '/home/jovyan/worker-rqnxf3ck',\n",
       "   'name': 'dask-gateway-z4rp5',\n",
       "   'nthreads': 2,\n",
       "   'memory_limit': 4294967296,\n",
       "   'services': {'dashboard': 39653},\n",
       "   'nanny': 'tls://10.0.128.12:42229'},\n",
       "  'tls://10.0.128.235:40721': {'type': 'Worker',\n",
       "   'id': 'dask-gateway-xjj67',\n",
       "   'host': '10.0.128.235',\n",
       "   'resources': {},\n",
       "   'local_directory': '/home/jovyan/worker-2xlh1m39',\n",
       "   'name': 'dask-gateway-xjj67',\n",
       "   'nthreads': 2,\n",
       "   'memory_limit': 4294967296,\n",
       "   'services': {'dashboard': 37431},\n",
       "   'nanny': 'tls://10.0.128.235:39471'}}}"
      ]
     },
     "execution_count": 25,
     "metadata": {},
     "output_type": "execute_result"
    }
   ],
   "source": [
    "cluster.scheduler_info"
   ]
  },
  {
   "cell_type": "markdown",
   "metadata": {},
   "source": [
    "## Shutdown cluster"
   ]
  },
  {
   "cell_type": "code",
   "execution_count": null,
   "metadata": {},
   "outputs": [],
   "source": [
    "cluster.shutdown()"
   ]
  }
 ],
 "metadata": {
  "kernelspec": {
   "display_name": "Python 3",
   "language": "python",
   "name": "python3"
  },
  "language_info": {
   "codemirror_mode": {
    "name": "ipython",
    "version": 3
   },
   "file_extension": ".py",
   "mimetype": "text/x-python",
   "name": "python",
   "nbconvert_exporter": "python",
   "pygments_lexer": "ipython3",
   "version": "3.7.6"
  }
 },
 "nbformat": 4,
 "nbformat_minor": 4
}
