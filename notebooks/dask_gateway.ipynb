{
 "cells": [
  {
   "cell_type": "markdown",
   "metadata": {},
   "source": [
    "# Dask Gateway Example Notebook\n",
    "Here are some commands for starting and working with a Dask Gateway cluster."
   ]
  },
  {
   "cell_type": "markdown",
   "metadata": {},
   "source": [
    "## Start Dask cluster"
   ]
  },
  {
   "cell_type": "code",
   "execution_count": 1,
   "metadata": {},
   "outputs": [],
   "source": [
    "import os\n",
    "import dask\n",
    "from dask_gateway import Gateway\n",
    "from dask.distributed import Client\n",
    "import dask_gateway\n",
    "import dask.array as da"
   ]
  },
  {
   "cell_type": "code",
   "execution_count": 2,
   "metadata": {},
   "outputs": [
    {
     "data": {
      "text/plain": [
       "'0.7.1'"
      ]
     },
     "execution_count": 2,
     "metadata": {},
     "output_type": "execute_result"
    }
   ],
   "source": [
    "# get the dask-gateway version\n",
    "dask_gateway.__version__"
   ]
  },
  {
   "cell_type": "code",
   "execution_count": 3,
   "metadata": {},
   "outputs": [
    {
     "data": {
      "text/plain": [
       "{'auth': {'type': 'jupyterhub', 'kwargs': {}},\n",
       " 'cluster': {'options': {'image': '{JUPYTER_IMAGE_SPEC}'}},\n",
       " 'address': 'https://ooi.pangeo.io/services/dask-gateway/',\n",
       " 'proxy_address': 'gateway://traefik-ooi-prod-dask-gateway.ooi-prod:80',\n",
       " 'public-address': None,\n",
       " 'http-client': {'proxy': True}}"
      ]
     },
     "execution_count": 3,
     "metadata": {},
     "output_type": "execute_result"
    }
   ],
   "source": [
    "# show the default dask-gateway settings\n",
    "dask.config.config['gateway']"
   ]
  },
  {
   "cell_type": "code",
   "execution_count": 4,
   "metadata": {},
   "outputs": [
    {
     "data": {
      "text/plain": [
       "'ooicloud.azurecr.io/ooi-pangeo-io-notebook:1590ac8'"
      ]
     },
     "execution_count": 4,
     "metadata": {},
     "output_type": "execute_result"
    }
   ],
   "source": [
    "# show the current default image to be started on workers\n",
    "os.environ['JUPYTER_IMAGE_SPEC']"
   ]
  },
  {
   "cell_type": "code",
   "execution_count": 5,
   "metadata": {},
   "outputs": [],
   "source": [
    "# explicit gateway call\n",
    "#gateway = Gateway(address = 'https://ooi.pangeo.io/services/dask-gateway/',\n",
    "#                  proxy_address = 'gateway://traefik-ooi-prod-dask-gateway.ooi-prod:80',\n",
    "#                  auth = 'jupyterhub')"
   ]
  },
  {
   "cell_type": "code",
   "execution_count": 6,
   "metadata": {},
   "outputs": [],
   "source": [
    "#default gateway call\n",
    "gateway = Gateway()"
   ]
  },
  {
   "cell_type": "code",
   "execution_count": 7,
   "metadata": {},
   "outputs": [],
   "source": [
    "# call new_cluster with explicit image\n",
    "#cluster = gateway.new_cluster(image=os.environ['JUPYTER_IMAGE'])"
   ]
  },
  {
   "cell_type": "code",
   "execution_count": 8,
   "metadata": {},
   "outputs": [],
   "source": [
    "# default new_cluster call\n",
    "cluster = gateway.new_cluster()"
   ]
  },
  {
   "cell_type": "code",
   "execution_count": 9,
   "metadata": {},
   "outputs": [
    {
     "data": {
      "text/plain": [
       "[ClusterReport<name=ooi-prod.8086d26488bd41daa31d00fb1fe51625, status=RUNNING>]"
      ]
     },
     "execution_count": 9,
     "metadata": {},
     "output_type": "execute_result"
    }
   ],
   "source": [
    "gateway.list_clusters()"
   ]
  },
  {
   "cell_type": "code",
   "execution_count": 10,
   "metadata": {},
   "outputs": [
    {
     "data": {
      "text/plain": [
       "'ooi-prod.8086d26488bd41daa31d00fb1fe51625'"
      ]
     },
     "execution_count": 10,
     "metadata": {},
     "output_type": "execute_result"
    }
   ],
   "source": [
    "# get the name of the new cluster\n",
    "gateway.list_clusters()[0].name"
   ]
  },
  {
   "cell_type": "code",
   "execution_count": 11,
   "metadata": {},
   "outputs": [],
   "source": [
    "# connect to cluster that already exists\n",
    "# this is helpful if the cluster exists but it is disconnected for some reason\n",
    "#cluster_name = gateway.list_clusters()[0].name\n",
    "#cluster = gateway.connect(cluster_name)"
   ]
  },
  {
   "cell_type": "code",
   "execution_count": 12,
   "metadata": {},
   "outputs": [
    {
     "data": {
      "text/plain": [
       "'https://ooi.pangeo.io/services/dask-gateway/clusters/ooi-prod.8086d26488bd41daa31d00fb1fe51625/status'"
      ]
     },
     "execution_count": 12,
     "metadata": {},
     "output_type": "execute_result"
    }
   ],
   "source": [
    "# the dashboard_link property will show the link that can be pasted into the Dask labextension\n",
    "cluster.dashboard_link"
   ]
  },
  {
   "cell_type": "markdown",
   "metadata": {},
   "source": [
    "## Scale cluster and connect a client\n",
    "\"cluster\" will show the interactive scaling controls and the dashboard link, which can be pasted into the Dask labextension."
   ]
  },
  {
   "cell_type": "code",
   "execution_count": 13,
   "metadata": {},
   "outputs": [
    {
     "data": {
      "application/vnd.jupyter.widget-view+json": {
       "model_id": "796558ff595646b5b0fb849e5d3f64f2",
       "version_major": 2,
       "version_minor": 0
      },
      "text/plain": [
       "VBox(children=(HTML(value='<h2>GatewayCluster</h2>'), HBox(children=(HTML(value='\\n<div>\\n<style scoped>\\n    …"
      ]
     },
     "metadata": {},
     "output_type": "display_data"
    }
   ],
   "source": [
    "cluster"
   ]
  },
  {
   "cell_type": "code",
   "execution_count": 14,
   "metadata": {},
   "outputs": [],
   "source": [
    "# scale cluster to 4 workers using the scale() method\n",
    "cluster.scale(12)"
   ]
  },
  {
   "cell_type": "code",
   "execution_count": 15,
   "metadata": {},
   "outputs": [],
   "source": [
    "# connect a client\n",
    "# the distributed client is used for running parallel tasks with Dask\n",
    "client = Client(cluster)"
   ]
  },
  {
   "cell_type": "code",
   "execution_count": 18,
   "metadata": {},
   "outputs": [
    {
     "data": {
      "text/html": [
       "<table style=\"border: 2px solid white;\">\n",
       "<tr>\n",
       "<td style=\"vertical-align: top; border: 0px solid white\">\n",
       "<h3 style=\"text-align: left;\">Client</h3>\n",
       "<ul style=\"text-align: left; list-style: none; margin: 0; padding: 0;\">\n",
       "  <li><b>Scheduler: </b>gateway://traefik-ooi-prod-dask-gateway.ooi-prod:80/ooi-prod.8086d26488bd41daa31d00fb1fe51625</li>\n",
       "  <li><b>Dashboard: </b><a href='https://ooi.pangeo.io/services/dask-gateway/clusters/ooi-prod.8086d26488bd41daa31d00fb1fe51625/status' target='_blank'>https://ooi.pangeo.io/services/dask-gateway/clusters/ooi-prod.8086d26488bd41daa31d00fb1fe51625/status</a></li>\n",
       "</ul>\n",
       "</td>\n",
       "<td style=\"vertical-align: top; border: 0px solid white\">\n",
       "<h3 style=\"text-align: left;\">Cluster</h3>\n",
       "<ul style=\"text-align: left; list-style:none; margin: 0; padding: 0;\">\n",
       "  <li><b>Workers: </b>11</li>\n",
       "  <li><b>Cores: </b>22</li>\n",
       "  <li><b>Memory: </b>47.24 GB</li>\n",
       "</ul>\n",
       "</td>\n",
       "</tr>\n",
       "</table>"
      ],
      "text/plain": [
       "<Client: 'tls://10.0.129.77:8786' processes=11 threads=22, memory=47.24 GB>"
      ]
     },
     "execution_count": 18,
     "metadata": {},
     "output_type": "execute_result"
    }
   ],
   "source": [
    "client"
   ]
  },
  {
   "cell_type": "markdown",
   "metadata": {},
   "source": [
    "## Test Dask cluster"
   ]
  },
  {
   "cell_type": "code",
   "execution_count": 20,
   "metadata": {},
   "outputs": [
    {
     "name": "stdout",
     "output_type": "stream",
     "text": [
      "CPU times: user 475 ms, sys: 35.4 ms, total: 510 ms\n",
      "Wall time: 8.26 s\n"
     ]
    },
    {
     "data": {
      "text/plain": [
       "1.1581672621235419e-05"
      ]
     },
     "execution_count": 20,
     "metadata": {},
     "output_type": "execute_result"
    }
   ],
   "source": [
    "%%time\n",
    "a = da.random.normal(size=(10000, 100000), chunks=(500, 500))\n",
    "f = client.submit(a.mean().compute)\n",
    "f.result()"
   ]
  },
  {
   "cell_type": "markdown",
   "metadata": {},
   "source": [
    "## Other misc commands\n",
    "These commands are useful for getting information but aren't normally needed"
   ]
  },
  {
   "cell_type": "code",
   "execution_count": 21,
   "metadata": {},
   "outputs": [],
   "source": [
    "options = gateway.cluster_options()"
   ]
  },
  {
   "cell_type": "code",
   "execution_count": 22,
   "metadata": {},
   "outputs": [
    {
     "data": {
      "application/vnd.jupyter.widget-view+json": {
       "model_id": "56c8b707a4d04d1fa346057b37780b52",
       "version_major": 2,
       "version_minor": 0
      },
      "text/plain": [
       "Box(children=(Box(children=(HTML(value='<h2>Cluster Options</h2>'), Box(children=(HTML(value=\"<p style='font-w…"
      ]
     },
     "metadata": {},
     "output_type": "display_data"
    }
   ],
   "source": [
    "options"
   ]
  },
  {
   "cell_type": "code",
   "execution_count": 23,
   "metadata": {},
   "outputs": [],
   "source": [
    "options.worker_cores = 4"
   ]
  },
  {
   "cell_type": "code",
   "execution_count": 24,
   "metadata": {},
   "outputs": [
    {
     "data": {
      "text/plain": [
       "{'dashboard': 8787, 'gateway': 8788}"
      ]
     },
     "execution_count": 24,
     "metadata": {},
     "output_type": "execute_result"
    }
   ],
   "source": [
    "client.scheduler_info()['services']"
   ]
  },
  {
   "cell_type": "code",
   "execution_count": 25,
   "metadata": {},
   "outputs": [],
   "source": [
    "#cluster.get_client()"
   ]
  },
  {
   "cell_type": "code",
   "execution_count": 26,
   "metadata": {},
   "outputs": [
    {
     "data": {
      "text/plain": [
       "'https://ooi.pangeo.io/services/dask-gateway'"
      ]
     },
     "execution_count": 26,
     "metadata": {},
     "output_type": "execute_result"
    }
   ],
   "source": [
    "gateway.address"
   ]
  },
  {
   "cell_type": "code",
   "execution_count": 27,
   "metadata": {},
   "outputs": [
    {
     "data": {
      "text/plain": [
       "'gateway://traefik-ooi-prod-dask-gateway.ooi-prod:80/ooi-prod.8086d26488bd41daa31d00fb1fe51625'"
      ]
     },
     "execution_count": 27,
     "metadata": {},
     "output_type": "execute_result"
    }
   ],
   "source": [
    "cluster.scheduler_address"
   ]
  },
  {
   "cell_type": "code",
   "execution_count": 28,
   "metadata": {},
   "outputs": [
    {
     "data": {
      "text/plain": [
       "<rpc to 'gateway://traefik-ooi-prod-dask-gateway.ooi-prod:80/ooi-prod.8086d26488bd41daa31d00fb1fe51625', 1 comms>"
      ]
     },
     "execution_count": 28,
     "metadata": {},
     "output_type": "execute_result"
    }
   ],
   "source": [
    "cluster.scheduler_comm"
   ]
  },
  {
   "cell_type": "code",
   "execution_count": 29,
   "metadata": {},
   "outputs": [
    {
     "data": {
      "text/plain": [
       "{'type': 'Scheduler',\n",
       " 'id': 'Scheduler-97871417-c73f-4c51-9260-433f1b5a7999',\n",
       " 'address': 'tls://10.0.129.77:8786',\n",
       " 'services': {'dashboard': 8787, 'gateway': 8788},\n",
       " 'workers': {'tls://10.0.128.205:36335': {'type': 'Worker',\n",
       "   'id': 'dask-gateway-d7t4p',\n",
       "   'host': '10.0.128.205',\n",
       "   'resources': {},\n",
       "   'local_directory': '/home/jovyan/worker-8g6k81c2',\n",
       "   'name': 'dask-gateway-d7t4p',\n",
       "   'nthreads': 2,\n",
       "   'memory_limit': 4294967296,\n",
       "   'services': {'dashboard': 45801},\n",
       "   'nanny': 'tls://10.0.128.205:34923'},\n",
       "  'tls://10.0.129.176:41475': {'type': 'Worker',\n",
       "   'id': 'dask-gateway-z9lqm',\n",
       "   'host': '10.0.129.176',\n",
       "   'resources': {},\n",
       "   'local_directory': '/home/jovyan/worker-kdtprtlt',\n",
       "   'name': 'dask-gateway-z9lqm',\n",
       "   'nthreads': 2,\n",
       "   'memory_limit': 4294967296,\n",
       "   'services': {'dashboard': 41583},\n",
       "   'nanny': 'tls://10.0.129.176:39343'},\n",
       "  'tls://10.0.131.150:41273': {'type': 'Worker',\n",
       "   'id': 'dask-gateway-825gw',\n",
       "   'host': '10.0.131.150',\n",
       "   'resources': {},\n",
       "   'local_directory': '/home/jovyan/worker-ht_hptxl',\n",
       "   'name': 'dask-gateway-825gw',\n",
       "   'nthreads': 2,\n",
       "   'memory_limit': 4294967296,\n",
       "   'services': {'dashboard': 44249},\n",
       "   'nanny': 'tls://10.0.131.150:43753'},\n",
       "  'tls://10.0.131.28:45627': {'type': 'Worker',\n",
       "   'id': 'dask-gateway-wk2fl',\n",
       "   'host': '10.0.131.28',\n",
       "   'resources': {},\n",
       "   'local_directory': '/home/jovyan/worker-slq_e6du',\n",
       "   'name': 'dask-gateway-wk2fl',\n",
       "   'nthreads': 2,\n",
       "   'memory_limit': 4294967296,\n",
       "   'services': {'dashboard': 39285},\n",
       "   'nanny': 'tls://10.0.131.28:40347'},\n",
       "  'tls://10.0.130.255:38529': {'type': 'Worker',\n",
       "   'id': 'dask-gateway-s8mzm',\n",
       "   'host': '10.0.130.255',\n",
       "   'resources': {},\n",
       "   'local_directory': '/home/jovyan/worker-6nz6vib3',\n",
       "   'name': 'dask-gateway-s8mzm',\n",
       "   'nthreads': 2,\n",
       "   'memory_limit': 4294967296,\n",
       "   'services': {'dashboard': 43733},\n",
       "   'nanny': 'tls://10.0.130.255:34395'},\n",
       "  'tls://10.0.130.14:43075': {'type': 'Worker',\n",
       "   'id': 'dask-gateway-hks7m',\n",
       "   'host': '10.0.130.14',\n",
       "   'resources': {},\n",
       "   'local_directory': '/home/jovyan/worker-cl1l0s7s',\n",
       "   'name': 'dask-gateway-hks7m',\n",
       "   'nthreads': 2,\n",
       "   'memory_limit': 4294967296,\n",
       "   'services': {'dashboard': 43089},\n",
       "   'nanny': 'tls://10.0.130.14:40785'},\n",
       "  'tls://10.0.132.6:41659': {'type': 'Worker',\n",
       "   'id': 'dask-gateway-89xz6',\n",
       "   'host': '10.0.132.6',\n",
       "   'resources': {},\n",
       "   'local_directory': '/home/jovyan/worker-rsw6vb95',\n",
       "   'name': 'dask-gateway-89xz6',\n",
       "   'nthreads': 2,\n",
       "   'memory_limit': 4294967296,\n",
       "   'services': {'dashboard': 43417},\n",
       "   'nanny': 'tls://10.0.132.6:35617'},\n",
       "  'tls://10.0.129.232:34543': {'type': 'Worker',\n",
       "   'id': 'dask-gateway-2wjk7',\n",
       "   'host': '10.0.129.232',\n",
       "   'resources': {},\n",
       "   'local_directory': '/home/jovyan/worker-r307m1lw',\n",
       "   'name': 'dask-gateway-2wjk7',\n",
       "   'nthreads': 2,\n",
       "   'memory_limit': 4294967296,\n",
       "   'services': {'dashboard': 40957},\n",
       "   'nanny': 'tls://10.0.129.232:42609'},\n",
       "  'tls://10.0.131.83:37305': {'type': 'Worker',\n",
       "   'id': 'dask-gateway-m8mbl',\n",
       "   'host': '10.0.131.83',\n",
       "   'resources': {},\n",
       "   'local_directory': '/home/jovyan/worker-6o61x5if',\n",
       "   'name': 'dask-gateway-m8mbl',\n",
       "   'nthreads': 2,\n",
       "   'memory_limit': 4294967296,\n",
       "   'services': {'dashboard': 45119},\n",
       "   'nanny': 'tls://10.0.131.83:39517'},\n",
       "  'tls://10.0.128.191:39659': {'type': 'Worker',\n",
       "   'id': 'dask-gateway-65j97',\n",
       "   'host': '10.0.128.191',\n",
       "   'resources': {},\n",
       "   'local_directory': '/home/jovyan/worker-uzr93nlq',\n",
       "   'name': 'dask-gateway-65j97',\n",
       "   'nthreads': 2,\n",
       "   'memory_limit': 4294967296,\n",
       "   'services': {'dashboard': 34489},\n",
       "   'nanny': 'tls://10.0.128.191:39377'},\n",
       "  'tls://10.0.130.120:41387': {'type': 'Worker',\n",
       "   'id': 'dask-gateway-5pwjm',\n",
       "   'host': '10.0.130.120',\n",
       "   'resources': {},\n",
       "   'local_directory': '/home/jovyan/worker-7y25y7ly',\n",
       "   'name': 'dask-gateway-5pwjm',\n",
       "   'nthreads': 2,\n",
       "   'memory_limit': 4294967296,\n",
       "   'services': {'dashboard': 46145},\n",
       "   'nanny': 'tls://10.0.130.120:44243'}}}"
      ]
     },
     "execution_count": 29,
     "metadata": {},
     "output_type": "execute_result"
    }
   ],
   "source": [
    "cluster.scheduler_info"
   ]
  },
  {
   "cell_type": "markdown",
   "metadata": {},
   "source": [
    "## Shutdown cluster"
   ]
  },
  {
   "cell_type": "code",
   "execution_count": null,
   "metadata": {},
   "outputs": [],
   "source": [
    "cluster.shutdown()"
   ]
  }
 ],
 "metadata": {
  "kernelspec": {
   "display_name": "Python 3",
   "language": "python",
   "name": "python3"
  },
  "language_info": {
   "codemirror_mode": {
    "name": "ipython",
    "version": 3
   },
   "file_extension": ".py",
   "mimetype": "text/x-python",
   "name": "python",
   "nbconvert_exporter": "python",
   "pygments_lexer": "ipython3",
   "version": "3.7.6"
  }
 },
 "nbformat": 4,
 "nbformat_minor": 4
}
