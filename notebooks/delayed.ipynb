{
 "cells": [
  {
   "cell_type": "markdown",
   "metadata": {},
   "source": [
    "# Delayed\n",
    "An ultra basic example of Dask delayed. Enjoy.<br>\n",
    "Read the docs at:<br>\n",
    "https://docs.dask.org/en/latest/delayed.html<br>\n",
    "https://docs.dask.org/en/latest/graphs.html"
   ]
  },
  {
   "cell_type": "code",
   "execution_count": 1,
   "metadata": {},
   "outputs": [],
   "source": [
    "from dask import delayed\n",
    "import dask"
   ]
  },
  {
   "cell_type": "code",
   "execution_count": 2,
   "metadata": {},
   "outputs": [],
   "source": [
    "def bytwo(a):\n",
    "    return a*2"
   ]
  },
  {
   "cell_type": "code",
   "execution_count": 3,
   "metadata": {},
   "outputs": [
    {
     "data": {
      "text/plain": [
       "[0, 1, 2, 3, 4, 5, 6, 7, 8, 9]"
      ]
     },
     "execution_count": 3,
     "metadata": {},
     "output_type": "execute_result"
    }
   ],
   "source": [
    "numlist = list(range(10))\n",
    "numlist"
   ]
  },
  {
   "cell_type": "code",
   "execution_count": 4,
   "metadata": {},
   "outputs": [],
   "source": [
    "result_delayed = []\n",
    "for i in numlist:\n",
    "    result_delayed.append(delayed(bytwo)(i))"
   ]
  },
  {
   "cell_type": "code",
   "execution_count": 5,
   "metadata": {},
   "outputs": [
    {
     "data": {
      "text/plain": [
       "[Delayed('bytwo-329158c9-67cd-4563-91de-9c4bde0647a5'),\n",
       " Delayed('bytwo-4820946e-994b-4e49-be3c-4f8ed6fbf0ef'),\n",
       " Delayed('bytwo-eb54498a-73ab-47a1-a963-1a2e8ac01f90'),\n",
       " Delayed('bytwo-b89dd176-8440-4706-b459-c4168cce4b30'),\n",
       " Delayed('bytwo-36510fe1-b328-40b8-8cdd-ae008b74cbe6'),\n",
       " Delayed('bytwo-c491117b-f475-49cf-8118-530987ff7c05'),\n",
       " Delayed('bytwo-0bfad3a2-030f-427c-b357-f0be7284ab75'),\n",
       " Delayed('bytwo-0478d89d-d2c8-46b1-b084-3ac4a10bb8fc'),\n",
       " Delayed('bytwo-cfe2b5bb-8d55-40d0-af4d-50ac2c66544e'),\n",
       " Delayed('bytwo-a1f48107-edd1-406f-8f41-a99c56243514')]"
      ]
     },
     "execution_count": 5,
     "metadata": {},
     "output_type": "execute_result"
    }
   ],
   "source": [
    "result_delayed"
   ]
  },
  {
   "cell_type": "code",
   "execution_count": 6,
   "metadata": {},
   "outputs": [],
   "source": [
    "result = dask.compute(*result_delayed)"
   ]
  },
  {
   "cell_type": "code",
   "execution_count": 7,
   "metadata": {},
   "outputs": [
    {
     "data": {
      "text/plain": [
       "(0, 2, 4, 6, 8, 10, 12, 14, 16, 18)"
      ]
     },
     "execution_count": 7,
     "metadata": {},
     "output_type": "execute_result"
    }
   ],
   "source": [
    "result"
   ]
  }
 ],
 "metadata": {
  "kernelspec": {
   "display_name": "Python 3",
   "language": "python",
   "name": "python3"
  },
  "language_info": {
   "codemirror_mode": {
    "name": "ipython",
    "version": 3
   },
   "file_extension": ".py",
   "mimetype": "text/x-python",
   "name": "python",
   "nbconvert_exporter": "python",
   "pygments_lexer": "ipython3",
   "version": "3.7.6"
  }
 },
 "nbformat": 4,
 "nbformat_minor": 4
}
